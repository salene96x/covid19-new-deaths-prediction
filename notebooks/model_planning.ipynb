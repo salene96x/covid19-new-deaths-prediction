{
 "cells": [
  {
   "cell_type": "code",
   "execution_count": 1,
   "id": "75612716-dceb-4857-a4de-077b498e8ec9",
   "metadata": {},
   "outputs": [],
   "source": [
    "%load_ext autoreload\n",
    "%autoreload 2"
   ]
  },
  {
   "cell_type": "code",
   "execution_count": 2,
   "id": "64e4432c-4de1-45fb-9c9c-f6d4027f6c7b",
   "metadata": {},
   "outputs": [],
   "source": [
    "from sklearn.ensemble import RandomForestClassifier"
   ]
  },
  {
   "cell_type": "code",
   "execution_count": 3,
   "id": "d4a747fc-6224-4346-9855-fe4550f21dec",
   "metadata": {},
   "outputs": [],
   "source": [
    "import sys\n",
    "sys.path.insert(0, '/usr/src/scripts')"
   ]
  },
  {
   "cell_type": "code",
   "execution_count": 4,
   "id": "0e670299-b94c-4e3e-a4c0-6e8b607b3689",
   "metadata": {},
   "outputs": [],
   "source": [
    "from etl import ETL"
   ]
  },
  {
   "cell_type": "code",
   "execution_count": 5,
   "id": "86400853-88ab-49cf-bc16-5d79978e375f",
   "metadata": {},
   "outputs": [],
   "source": [
    "etl = ETL()\n",
    "df = etl.fit('migraine-classification/data.csv')"
   ]
  },
  {
   "cell_type": "code",
   "execution_count": 6,
   "id": "801aab26-fe8d-46be-bbbd-7fe8c014479e",
   "metadata": {},
   "outputs": [],
   "source": [
    "import yaml"
   ]
  },
  {
   "cell_type": "code",
   "execution_count": 14,
   "id": "f32edca3-c207-4193-8362-83e5586a7c0d",
   "metadata": {},
   "outputs": [],
   "source": [
    "with open(\"/usr/src/configs/experiment-1.yaml\", 'r') as yaml_file:\n",
    "    cfg = yaml.load(yaml_file, Loader=yaml.FullLoader)"
   ]
  },
  {
   "cell_type": "code",
   "execution_count": 12,
   "id": "ca893b93-927f-4c45-a0ac-0bd483c47ae6",
   "metadata": {},
   "outputs": [
    {
     "data": {
      "text/plain": [
       "{'experiment_name': 'migraine-classification',\n",
       " 'datasets': {'path': 'migraine-classification/data.csv',\n",
       "  'x': ['age',\n",
       "   'duration',\n",
       "   'frequency',\n",
       "   'location',\n",
       "   'character',\n",
       "   'intensity',\n",
       "   'nausea',\n",
       "   'vomit',\n",
       "   'phonophobia',\n",
       "   'photophobia',\n",
       "   'visual',\n",
       "   'sensory',\n",
       "   'dysphasia',\n",
       "   'dysarthria',\n",
       "   'vertigo',\n",
       "   'tinnitus',\n",
       "   'hypoacusis',\n",
       "   'diplopia',\n",
       "   'defect',\n",
       "   'ataxia',\n",
       "   'conscience',\n",
       "   'paresthesia',\n",
       "   'dpf'],\n",
       "  'y': ['Type'],\n",
       "  'train_test_split': {'test_size': 0.3, 'random_state': 696},\n",
       "  'labels': ['Typical aura with migraine',\n",
       "   'Migraine without aura',\n",
       "   'Basilar-type aura',\n",
       "   'Sporadic hemiplegic migraine',\n",
       "   'Familial hemiplegic migraine',\n",
       "   'Other',\n",
       "   'Typical aura without migraine']},\n",
       " 'models': {'sklearn': {'neural_network': ['MLPClassifier'],\n",
       "   'neighbors': ['KNeighborsClassifier'],\n",
       "   'svm': ['SVC'],\n",
       "   'gaussian_process': ['GaussianProcessClassifier'],\n",
       "   'gaussian_process_kernels': ['RBF'],\n",
       "   'tree': ['DecisionTreeClassifier'],\n",
       "   'ensemble': ['RandomForestClassifier', 'AdaBoostClassifier'],\n",
       "   'naive_bayes': ['GaussianNB'],\n",
       "   'discriminant_analysis': ['QuadraticDiscriminantAnalysis'],\n",
       "   'inspection': ['DecisionBoundaryDisplay']},\n",
       "  'epochs': 10}}"
      ]
     },
     "execution_count": 12,
     "metadata": {},
     "output_type": "execute_result"
    }
   ],
   "source": [
    "cfg"
   ]
  },
  {
   "cell_type": "code",
   "execution_count": 15,
   "id": "3b71d760-d0db-4dfa-810e-4b10f0553e16",
   "metadata": {},
   "outputs": [],
   "source": [
    "from sklearn.model_selection import train_test_split\n",
    "x_train, x_test, y_train, y_test = train_test_split(df[cfg['datasets']['x']], df[cfg['datasets']['y']], test_size=float(cfg['datasets']['train_test_split']['test_size']), random_state=696)"
   ]
  },
  {
   "cell_type": "code",
   "execution_count": 16,
   "id": "ead7c6c6-2994-4b17-bbcd-ae75c561506c",
   "metadata": {},
   "outputs": [],
   "source": [
    "rf = RandomForestClassifier()"
   ]
  },
  {
   "cell_type": "code",
   "execution_count": 17,
   "id": "6ad79c5d-07a1-44b6-a4d4-0323acf9671d",
   "metadata": {},
   "outputs": [
    {
     "name": "stderr",
     "output_type": "stream",
     "text": [
      "/tmp/ipykernel_435/3512478466.py:1: DataConversionWarning: A column-vector y was passed when a 1d array was expected. Please change the shape of y to (n_samples,), for example using ravel().\n",
      "  rf.fit(x_train, y_train)\n"
     ]
    },
    {
     "data": {
      "text/plain": [
       "RandomForestClassifier()"
      ]
     },
     "execution_count": 17,
     "metadata": {},
     "output_type": "execute_result"
    }
   ],
   "source": [
    "rf.fit(x_train, y_train)"
   ]
  },
  {
   "cell_type": "code",
   "execution_count": 19,
   "id": "e3d71c5a-7ca8-4867-878f-29dde33e0abc",
   "metadata": {},
   "outputs": [],
   "source": [
    "from sklearn.metrics import classification_report"
   ]
  },
  {
   "cell_type": "code",
   "execution_count": 29,
   "id": "d1017e4e-ed49-4fdb-9b7e-dea426ec7164",
   "metadata": {},
   "outputs": [],
   "source": [
    "report = classification_report(y_test, rf.predict(x_test), labels=cfg['datasets']['labels'], target_names=cfg['datasets']['labels'], output_dict=True)"
   ]
  },
  {
   "cell_type": "code",
   "execution_count": 30,
   "id": "d5112118-fde2-4e9e-99a0-e0035be84e44",
   "metadata": {},
   "outputs": [
    {
     "data": {
      "text/plain": [
       "dict"
      ]
     },
     "execution_count": 30,
     "metadata": {},
     "output_type": "execute_result"
    }
   ],
   "source": [
    "type(report)"
   ]
  },
  {
   "cell_type": "code",
   "execution_count": 36,
   "id": "6fda6dcf-7d99-44ac-983f-41da9f051387",
   "metadata": {},
   "outputs": [
    {
     "data": {
      "text/plain": [
       "{'precision': 0.8701298701298701,\n",
       " 'recall': 1.0,\n",
       " 'f1-score': 0.9305555555555556,\n",
       " 'support': 67}"
      ]
     },
     "execution_count": 36,
     "metadata": {},
     "output_type": "execute_result"
    }
   ],
   "source": [
    "report['Typical aura with migraine']"
   ]
  },
  {
   "cell_type": "code",
   "execution_count": 34,
   "id": "b7e50514-d523-494d-80a7-92a9d97aa7a4",
   "metadata": {},
   "outputs": [
    {
     "data": {
      "text/plain": [
       "['Typical aura with migraine',\n",
       " 'Migraine without aura',\n",
       " 'Basilar-type aura',\n",
       " 'Sporadic hemiplegic migraine',\n",
       " 'Familial hemiplegic migraine',\n",
       " 'Other',\n",
       " 'Typical aura without migraine']"
      ]
     },
     "execution_count": 34,
     "metadata": {},
     "output_type": "execute_result"
    }
   ],
   "source": [
    "cfg['datasets']['labels']"
   ]
  },
  {
   "cell_type": "code",
   "execution_count": null,
   "id": "4f4638e5-3529-4b29-a70a-d808591abe96",
   "metadata": {},
   "outputs": [],
   "source": []
  }
 ],
 "metadata": {
  "kernelspec": {
   "display_name": "Python 3",
   "language": "python",
   "name": "python3"
  },
  "language_info": {
   "codemirror_mode": {
    "name": "ipython",
    "version": 3
   },
   "file_extension": ".py",
   "mimetype": "text/x-python",
   "name": "python",
   "nbconvert_exporter": "python",
   "pygments_lexer": "ipython3",
   "version": "3.9.13"
  }
 },
 "nbformat": 4,
 "nbformat_minor": 5
}
