{
 "cells": [
  {
   "cell_type": "markdown",
   "id": "67a6232f-47cd-44ba-a348-4e38324dcc19",
   "metadata": {},
   "source": [
    "## Hypothesises:"
   ]
  },
  {
   "cell_type": "markdown",
   "id": "3a1a2335-925f-4b26-b131-362c085d3e36",
   "metadata": {},
   "source": [
    "    - Which factor does effect patients the most?\n",
    "    - What is the range of age of patients that have migraine the most?\n",
    "    - What are the common factors that effect the sickness of patients?"
   ]
  },
  {
   "cell_type": "markdown",
   "id": "778b4054-b23e-4c54-ab98-c5386e4416ab",
   "metadata": {},
   "source": [
    "### Hypothesis #1"
   ]
  },
  {
   "cell_type": "markdown",
   "id": "6c71428e-c77f-4734-9a78-dbd04ef12020",
   "metadata": {},
   "source": [
    "![correlations](imgs/correlations.png)"
   ]
  },
  {
   "cell_type": "markdown",
   "id": "052a9b5f-0f05-44eb-ac2e-14ddcfbaa54b",
   "metadata": {},
   "source": [
    "### Hypothesis #2"
   ]
  },
  {
   "cell_type": "markdown",
   "id": "bd5524c7-3731-43d7-9d48-1148cc4a95e1",
   "metadata": {},
   "source": [
    "- [1 - 20](charts/pie_export_1662147412018.html)\n",
    "- [21 - 40](charts/pie_export_1662154399524.html)\n",
    "- [41 - 60](charts/pie_export_1662154267518.html)\n",
    "- [61 - 80](charts/pie_export_1662154487933.html)"
   ]
  },
  {
   "cell_type": "markdown",
   "id": "db151887-12fb-4d23-9b0c-b3b8ec6c4cf2",
   "metadata": {},
   "source": [
    "### Hypothesis #3"
   ]
  },
  {
   "cell_type": "code",
   "execution_count": null,
   "id": "1dabaa00-0a36-41ee-ac68-d991e0dcccfa",
   "metadata": {},
   "outputs": [],
   "source": []
  }
 ],
 "metadata": {
  "kernelspec": {
   "display_name": "Python 3",
   "language": "python",
   "name": "python3"
  },
  "language_info": {
   "codemirror_mode": {
    "name": "ipython",
    "version": 3
   },
   "file_extension": ".py",
   "mimetype": "text/x-python",
   "name": "python",
   "nbconvert_exporter": "python",
   "pygments_lexer": "ipython3",
   "version": "3.9.13"
  }
 },
 "nbformat": 4,
 "nbformat_minor": 5
}
